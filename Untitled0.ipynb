{
  "nbformat": 4,
  "nbformat_minor": 0,
  "metadata": {
    "colab": {
      "provenance": [],
      "toc_visible": true,
      "authorship_tag": "ABX9TyO/6QvP2JRXtm2cxrmcjJo+",
      "include_colab_link": true
    },
    "kernelspec": {
      "name": "python3",
      "display_name": "Python 3"
    },
    "language_info": {
      "name": "python"
    }
  },
  "cells": [
    {
      "cell_type": "markdown",
      "metadata": {
        "id": "view-in-github",
        "colab_type": "text"
      },
      "source": [
        "<a href=\"https://colab.research.google.com/github/Mins2203/genesis-ai/blob/main/Untitled0.ipynb\" target=\"_parent\"><img src=\"https://colab.research.google.com/assets/colab-badge.svg\" alt=\"Open In Colab\"/></a>"
      ]
    },
    {
      "cell_type": "code",
      "execution_count": 2,
      "metadata": {
        "colab": {
          "base_uri": "https://localhost:8080/"
        },
        "id": "SCbU_kJ_5umP",
        "outputId": "68229a89-6c07-4b17-eb81-20bd19e5e5cb"
      },
      "outputs": [
        {
          "output_type": "stream",
          "name": "stdout",
          "text": [
            "Cloning into 'Genesis'...\n",
            "remote: Enumerating objects: 1233, done.\u001b[K\n",
            "remote: Counting objects: 100% (165/165), done.\u001b[K\n",
            "remote: Compressing objects: 100% (114/114), done.\u001b[K\n",
            "remote: Total 1233 (delta 90), reused 51 (delta 51), pack-reused 1068 (from 2)\u001b[K\n",
            "Receiving objects: 100% (1233/1233), 83.42 MiB | 23.73 MiB/s, done.\n",
            "Resolving deltas: 100% (285/285), done.\n",
            "Updating files: 100% (867/867), done.\n"
          ]
        }
      ],
      "source": [
        "!git clone https://github.com/Genesis-Embodied-AI/Genesis.git\n"
      ]
    }
  ]
}